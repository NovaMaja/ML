{
  "nbformat": 4,
  "nbformat_minor": 0,
  "metadata": {
    "colab": {
      "name": "firstNN.ipynb",
      "version": "0.3.2",
      "provenance": [],
      "include_colab_link": true
    },
    "kernelspec": {
      "name": "python3",
      "display_name": "Python 3"
    }
  },
  "cells": [
    {
      "cell_type": "markdown",
      "metadata": {
        "id": "view-in-github",
        "colab_type": "text"
      },
      "source": [
        "<a href=\"https://colab.research.google.com/github/NovaMaja/ML/blob/master/firstNN.ipynb\" target=\"_parent\"><img src=\"https://colab.research.google.com/assets/colab-badge.svg\" alt=\"Open In Colab\"/></a>"
      ]
    },
    {
      "metadata": {
        "id": "FV7Rp66WVPkW",
        "colab_type": "text"
      },
      "cell_type": "markdown",
      "source": [
        "# First Neural Net - MNIST\n",
        "MNIST is considered the \"Hello World\" of Computer Vision. We will use it to write our first Neural Network.\n",
        "\n",
        "First we import TensorFlow and some support libraries"
      ]
    },
    {
      "metadata": {
        "id": "WUsZXBBfVezJ",
        "colab_type": "code",
        "colab": {}
      },
      "cell_type": "code",
      "source": [
        "import tensorflow as tf         # Library for Machine Learning\n",
        "import numpy as np              # Numerical library with matrices etc\n",
        "import matplotlib.pyplot as plt # for plotting and visualization"
      ],
      "execution_count": 0,
      "outputs": []
    },
    {
      "metadata": {
        "id": "5xo-AWf8WZdh",
        "colab_type": "text"
      },
      "cell_type": "markdown",
      "source": [
        "**Step 1: Get the Data.** The MNIST dataset is readily available in TensorFlow.\n"
      ]
    },
    {
      "metadata": {
        "id": "FpuF6KycWiea",
        "colab_type": "code",
        "outputId": "2afb3345-5c45-489f-f82c-6117e7b86ae4",
        "colab": {
          "base_uri": "https://localhost:8080/",
          "height": 52
        }
      },
      "cell_type": "code",
      "source": [
        "mnist = tf.keras.datasets.mnist\n",
        "(train_images, train_labels),(test_images, test_labels) = mnist.load_data()"
      ],
      "execution_count": 3,
      "outputs": [
        {
          "output_type": "stream",
          "text": [
            "Downloading data from https://storage.googleapis.com/tensorflow/tf-keras-datasets/mnist.npz\n",
            "11493376/11490434 [==============================] - 0s 0us/step\n"
          ],
          "name": "stdout"
        }
      ]
    },
    {
      "metadata": {
        "id": "VmOxau_N3Uls",
        "colab_type": "text"
      },
      "cell_type": "markdown",
      "source": [
        "Let's explore the data:"
      ]
    },
    {
      "metadata": {
        "id": "t2Hzd1DQ4UXb",
        "colab_type": "code",
        "colab": {}
      },
      "cell_type": "code",
      "source": [
        "#find the shape of the training data\n",
        "train_images.shape"
      ],
      "execution_count": 0,
      "outputs": []
    },
    {
      "metadata": {
        "id": "Yunioj8F4iMQ",
        "colab_type": "code",
        "colab": {}
      },
      "cell_type": "code",
      "source": [
        "#See the number of training labels\n",
        "len(train_labels)"
      ],
      "execution_count": 0,
      "outputs": []
    },
    {
      "metadata": {
        "id": "Ilrk8Gmu4myg",
        "colab_type": "code",
        "colab": {}
      },
      "cell_type": "code",
      "source": [
        "train_labels"
      ],
      "execution_count": 0,
      "outputs": []
    },
    {
      "metadata": {
        "id": "iXnSQJsyTRYl",
        "colab_type": "text"
      },
      "cell_type": "markdown",
      "source": [
        "Now you try:"
      ]
    },
    {
      "metadata": {
        "id": "xPBprnY344lH",
        "colab_type": "code",
        "colab": {}
      },
      "cell_type": "code",
      "source": [
        "#Fill in the code to see the hape of the test data\n"
      ],
      "execution_count": 0,
      "outputs": []
    },
    {
      "metadata": {
        "id": "97vf6ZJY5Cjf",
        "colab_type": "code",
        "colab": {}
      },
      "cell_type": "code",
      "source": [
        "#Fill in the code to see the length of the test_labels array"
      ],
      "execution_count": 0,
      "outputs": []
    },
    {
      "metadata": {
        "id": "sDyzAu7Z5Esi",
        "colab_type": "code",
        "colab": {}
      },
      "cell_type": "code",
      "source": [
        "#Fill in code to investigate what the test_labels look like"
      ],
      "execution_count": 0,
      "outputs": []
    },
    {
      "metadata": {
        "id": "kDlFFztwTgIe",
        "colab_type": "text"
      },
      "cell_type": "markdown",
      "source": [
        "It is often helpful to visualize the data you are working with. Let's plot one of the images in the training set."
      ]
    },
    {
      "metadata": {
        "id": "ceb7v6vk5Qrz",
        "colab_type": "code",
        "colab": {}
      },
      "cell_type": "code",
      "source": [
        "plt.figure()\n",
        "plt.imshow(train_images[20000])\n",
        "plt.colorbar()\n",
        "plt.grid(False)"
      ],
      "execution_count": 0,
      "outputs": []
    },
    {
      "metadata": {
        "id": "wZiHvWuH6Wyn",
        "colab_type": "text"
      },
      "cell_type": "markdown",
      "source": [
        "We want to pre-process the data to fall in the range of 0 - 1. We do that by dividing with the largest value (255)"
      ]
    },
    {
      "metadata": {
        "id": "vLjODdXS6RqC",
        "colab_type": "code",
        "colab": {}
      },
      "cell_type": "code",
      "source": [
        "train_images, test_images = train_images/255.0 , test_images/255.0"
      ],
      "execution_count": 0,
      "outputs": []
    },
    {
      "metadata": {
        "id": "PoBosRM87D7R",
        "colab_type": "text"
      },
      "cell_type": "markdown",
      "source": [
        "**Step 2: Build the model**\n",
        "We use a simple neural network with 1 hidden layer of 512 nodes. Use relu activation function for the hidden layer and softmax for that output"
      ]
    },
    {
      "metadata": {
        "id": "ZI3-5KpFXDNR",
        "colab_type": "code",
        "colab": {}
      },
      "cell_type": "code",
      "source": [
        "model = tf.keras.models.Sequential([\n",
        "  tf.keras.layers.Flatten(), # input layer 28 x 28 = 784 nodes\n",
        "  #add two fully connected (dense) layers. One with 512 nodes and relu activation function, and one with 10 nodes and softmax\n",
        "  tf.keras.layers.Dense(512, activation = 'relu'),\n",
        "  tf.keras.layers.Dense(10, activation = 'softmax')\n",
        "])\n",
        "model.compile(optimizer='adam',\n",
        "              loss='sparse_categorical_crossentropy',\n",
        "              metrics=['accuracy'])"
      ],
      "execution_count": 0,
      "outputs": []
    },
    {
      "metadata": {
        "id": "6B5kyMHrYlSB",
        "colab_type": "text"
      },
      "cell_type": "markdown",
      "source": [
        "**Step 3: Train the model**\n",
        "Here we train for 3 epochs"
      ]
    },
    {
      "metadata": {
        "id": "Tzy9XC8qYlht",
        "colab_type": "code",
        "colab": {}
      },
      "cell_type": "code",
      "source": [
        "model.fit(, , epochs=) #fill in the images and labels as the two first arguments, and the number of epochs as the last"
      ],
      "execution_count": 0,
      "outputs": []
    },
    {
      "metadata": {
        "id": "LvOBT0G0Zb2P",
        "colab_type": "text"
      },
      "cell_type": "markdown",
      "source": [
        "**Step 4: Evaluate the model**\n",
        "we want to test if our model is making good predictions on data it never saw before, so we use the 10,000 images from the test set\n",
        "\n",
        "\n"
      ]
    },
    {
      "metadata": {
        "id": "DnbpxU4nZpaa",
        "colab_type": "code",
        "colab": {}
      },
      "cell_type": "code",
      "source": [
        "model.evaluate(,)#fill in the images and labels as the two first arguments"
      ],
      "execution_count": 0,
      "outputs": []
    },
    {
      "metadata": {
        "id": "P3DNhfWe7pgW",
        "colab_type": "text"
      },
      "cell_type": "markdown",
      "source": [
        "**Step 5: Predict**\n",
        "Lets see how the model does in predicting digits from images. Let's choose an image in the test set.\n",
        "First we will plot it to see what it looks like:"
      ]
    },
    {
      "metadata": {
        "id": "vr_MzbUK8AXo",
        "colab_type": "code",
        "colab": {}
      },
      "cell_type": "code",
      "source": [
        "plt.imshow(test_images[2000])"
      ],
      "execution_count": 0,
      "outputs": []
    },
    {
      "metadata": {
        "id": "P953_7mT8Rai",
        "colab_type": "text"
      },
      "cell_type": "markdown",
      "source": [
        "Now lets check the label"
      ]
    },
    {
      "metadata": {
        "id": "J5C0JSTC8WHm",
        "colab_type": "code",
        "colab": {}
      },
      "cell_type": "code",
      "source": [
        "test_labels[2000]"
      ],
      "execution_count": 0,
      "outputs": []
    },
    {
      "metadata": {
        "id": "im0RzKjj8aiQ",
        "colab_type": "text"
      },
      "cell_type": "markdown",
      "source": [
        "Now Let's see what the model reads it as"
      ]
    },
    {
      "metadata": {
        "id": "GxUJ0U_K8fys",
        "colab_type": "code",
        "colab": {
          "base_uri": "https://localhost:8080/",
          "height": 34
        },
        "outputId": "b0a0ee28-3c07-4278-91b1-a7deb416c2c7"
      },
      "cell_type": "code",
      "source": [
        "predictions = model.predict(test_images)\n",
        "predictions.shape"
      ],
      "execution_count": 21,
      "outputs": [
        {
          "output_type": "execute_result",
          "data": {
            "text/plain": [
              "(10000, 10)"
            ]
          },
          "metadata": {
            "tags": []
          },
          "execution_count": 21
        }
      ]
    },
    {
      "metadata": {
        "id": "bWXsP3zt2ih0",
        "colab_type": "code",
        "outputId": "b009d064-be0a-4c80-ce01-c35b1c5bc3a4",
        "colab": {
          "base_uri": "https://localhost:8080/",
          "height": 68
        }
      },
      "cell_type": "code",
      "source": [
        "predictions[2000]"
      ],
      "execution_count": 0,
      "outputs": [
        {
          "output_type": "execute_result",
          "data": {
            "text/plain": [
              "array([5.1789990e-05, 5.6364411e-04, 7.8258161e-03, 6.3855265e-04,\n",
              "       7.6251733e-03, 2.3614343e-03, 9.7349000e-01, 4.0560899e-05,\n",
              "       5.9531289e-03, 1.4499660e-03], dtype=float32)"
            ]
          },
          "metadata": {
            "tags": []
          },
          "execution_count": 24
        }
      ]
    },
    {
      "metadata": {
        "id": "cgLCiyn72kFt",
        "colab_type": "code",
        "outputId": "c503d16c-6135-49fb-d6f8-b21908971634",
        "colab": {
          "base_uri": "https://localhost:8080/",
          "height": 34
        }
      },
      "cell_type": "code",
      "source": [
        "np.argmax(predictions[2000])"
      ],
      "execution_count": 0,
      "outputs": [
        {
          "output_type": "execute_result",
          "data": {
            "text/plain": [
              "6"
            ]
          },
          "metadata": {
            "tags": []
          },
          "execution_count": 25
        }
      ]
    }
  ]
}