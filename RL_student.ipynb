{
  "nbformat": 4,
  "nbformat_minor": 0,
  "metadata": {
    "colab": {
      "name": "RL_student.ipynb",
      "version": "0.3.2",
      "provenance": [],
      "include_colab_link": true
    },
    "kernelspec": {
      "name": "python3",
      "display_name": "Python 3"
    }
  },
  "cells": [
    {
      "cell_type": "markdown",
      "metadata": {
        "id": "view-in-github",
        "colab_type": "text"
      },
      "source": [
        "<a href=\"https://colab.research.google.com/github/NovaMaja/ML/blob/master/RL_student.ipynb\" target=\"_parent\"><img src=\"https://colab.research.google.com/assets/colab-badge.svg\" alt=\"Open In Colab\"/></a>"
      ]
    },
    {
      "metadata": {
        "id": "u_ziGrD7QlMO",
        "colab_type": "code",
        "colab": {}
      },
      "cell_type": "code",
      "source": [
        "import numpy as np\n",
        "import pylab as plt\n",
        "\n",
        "# map cell to cell\n",
        "points_list = [(0,1), (2,0)] #add more points"
      ],
      "execution_count": 0,
      "outputs": []
    },
    {
      "metadata": {
        "id": "eqNFH4sWQsKq",
        "colab_type": "code",
        "colab": {}
      },
      "cell_type": "code",
      "source": [
        "\n",
        "\n",
        "import networkx as nx\n",
        "G=nx.Graph()\n",
        "G.add_edges_from(points_list)\n",
        "pos = nx.spring_layout(G)\n",
        "nx.draw_networkx_nodes(G,pos)\n",
        "nx.draw_networkx_edges(G,pos)\n",
        "nx.draw_networkx_labels(G,pos)\n",
        "plt.show()"
      ],
      "execution_count": 0,
      "outputs": []
    },
    {
      "metadata": {
        "id": "RMc_3LEkld_9",
        "colab_type": "code",
        "colab": {}
      },
      "cell_type": "code",
      "source": [
        "goal = #what is our destination?"
      ],
      "execution_count": 0,
      "outputs": []
    },
    {
      "metadata": {
        "id": "yXSPe0CTRala",
        "colab_type": "code",
        "colab": {}
      },
      "cell_type": "code",
      "source": [
        "# how many points in graph?\n",
        "MATRIX_SIZE = \n",
        "\n",
        "# create matrix x*y\n",
        "R = "
      ],
      "execution_count": 0,
      "outputs": []
    },
    {
      "metadata": {
        "id": "4d0LmPoUR7bC",
        "colab_type": "code",
        "colab": {}
      },
      "cell_type": "code",
      "source": [
        "# assign zeros to paths and 100 to goal-reaching point\n",
        "for point in points_list:\n",
        "    print(point)\n",
        "    if point[1] == goal:\n",
        "        #give huge reward\n",
        "\n",
        "    else:\n",
        "        #do not give reward\n",
        "\n",
        "#add the reverse too\n",
        "    if point[0] == goal:\n",
        "       #give huge reward at reverse of point\n",
        "        \n",
        "    else:\n",
        "        # no reward\n",
        "        \n",
        "\n",
        "# add goal point round trip\n",
        "\n"
      ],
      "execution_count": 0,
      "outputs": []
    },
    {
      "metadata": {
        "id": "DNb9_UavS26E",
        "colab_type": "code",
        "colab": {}
      },
      "cell_type": "code",
      "source": [
        "Q = np.matrix(np.zeros([MATRIX_SIZE,MATRIX_SIZE]))\n",
        "\n",
        "# learning parameter gamma to 0.8\n",
        "\n",
        "#set initial state initial_state to 1\n",
        "\n",
        "\n",
        "def available_actions(state):\n",
        "    #get current state\n",
        "\n",
        "    #get possible next states\n",
        "  \n",
        "    return av_act\n",
        "\n",
        "available_act = available_actions(initial_state) \n",
        "\n",
        "def sample_next_action(available_actions_range):\n",
        "    #get a random next actions from available actions\n",
        "    \n",
        "    return next_action\n",
        "\n",
        "action = sample_next_action(available_act)\n",
        "\n",
        "def update(current_state, action, gamma):\n",
        "    \n",
        "  max_index = np.where(Q[action,] == np.max(Q[action,]))[1]\n",
        "  \n",
        "  if max_index.shape[0] > 1:\n",
        "      max_index = int(np.random.choice(max_index, size = 1))\n",
        "  else:\n",
        "      max_index = int(max_index)\n",
        "  max_value = Q[action, max_index]\n",
        "  \n",
        "  #implement q learning equation\n",
        "  Q[current_state, action] = \n",
        "  \n",
        "  if (np.max(Q) > 0):\n",
        "    return(np.sum(Q/np.max(Q)*100))\n",
        "  else:\n",
        "    return (0)\n",
        "    \n",
        "update(initial_state, action, gamma)"
      ],
      "execution_count": 0,
      "outputs": []
    },
    {
      "metadata": {
        "id": "sqGBkzp-TESL",
        "colab_type": "code",
        "colab": {}
      },
      "cell_type": "code",
      "source": [
        "# Training\n",
        "scores = []\n",
        "for i in range(700):\n",
        "    current_state = np.random.randint(0, int(Q.shape[0]))\n",
        "    available_act = available_actions(current_state)\n",
        "    action = sample_next_action(available_act)\n",
        "    score = update(current_state,action,gamma)\n",
        "    scores.append(score)\n",
        "    print ('Score:', str(score))\n",
        "    \n",
        "print(\"Trained Q matrix:\")\n",
        "print(Q/np.max(Q)*100)"
      ],
      "execution_count": 0,
      "outputs": []
    },
    {
      "metadata": {
        "id": "3vQ8h_m9TFCM",
        "colab_type": "code",
        "colab": {}
      },
      "cell_type": "code",
      "source": [
        "# Testing\n",
        "current_state = 0\n",
        "steps = [current_state]\n",
        "\n",
        "while current_state != 7:\n",
        "\n",
        "    next_step_index = np.where(Q[current_state,] == np.max(Q[current_state,]))[1]\n",
        "    \n",
        "    if next_step_index.shape[0] > 1:\n",
        "        next_step_index = int(np.random.choice(next_step_index, size = 1))\n",
        "    else:\n",
        "        next_step_index = int(next_step_index)\n",
        "    \n",
        "    steps.append(next_step_index)\n",
        "    current_state = next_step_index\n",
        "\n",
        "print(\"Most efficient path:\")\n",
        "print(steps)\n",
        "\n",
        "plt.plot(scores)\n",
        "plt.show()"
      ],
      "execution_count": 0,
      "outputs": []
    }
  ]
}
