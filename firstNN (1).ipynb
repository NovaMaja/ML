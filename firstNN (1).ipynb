{
  "nbformat": 4,
  "nbformat_minor": 0,
  "metadata": {
    "colab": {
      "name": "firstNN.ipynb",
      "version": "0.3.2",
      "provenance": []
    },
    "kernelspec": {
      "name": "python3",
      "display_name": "Python 3"
    }
  },
  "cells": [
    {
      "metadata": {
        "id": "FV7Rp66WVPkW",
        "colab_type": "text"
      },
      "cell_type": "markdown",
      "source": [
        "# First Neural Net - MNIST\n",
        "MNIST is considered the \"Hello World\" of Computer Vision. We will use it to write our first Neural Network.\n",
        "\n",
        "First we import TensorFlow and some support libraries"
      ]
    },
    {
      "metadata": {
        "id": "WUsZXBBfVezJ",
        "colab_type": "code",
        "colab": {}
      },
      "cell_type": "code",
      "source": [
        "import tensorflow as tf         # Library for Machine Learning\n",
        "import numpy as np              # Numerical library with matrices etc\n",
        "import matplotlib.pyplot as plt # for plotting and visualization"
      ],
      "execution_count": 0,
      "outputs": []
    },
    {
      "metadata": {
        "id": "5xo-AWf8WZdh",
        "colab_type": "text"
      },
      "cell_type": "markdown",
      "source": [
        "**Step 1: Get the Data.** The MNIST dataset is readily available in TensorFlow.\n"
      ]
    },
    {
      "metadata": {
        "id": "FpuF6KycWiea",
        "colab_type": "code",
        "colab": {
          "base_uri": "https://localhost:8080/",
          "height": 51
        },
        "outputId": "037ac8f6-1850-45e2-a1ed-820344dba2d6"
      },
      "cell_type": "code",
      "source": [
        "mnist = tf.keras.datasets.mnist\n",
        "(train_images, train_labels),(test_images, test_labels) = mnist.load_data()"
      ],
      "execution_count": 2,
      "outputs": [
        {
          "output_type": "stream",
          "text": [
            "Downloading data from https://storage.googleapis.com/tensorflow/tf-keras-datasets/mnist.npz\n",
            "11493376/11490434 [==============================] - 0s 0us/step\n"
          ],
          "name": "stdout"
        }
      ]
    },
    {
      "metadata": {
        "id": "VmOxau_N3Uls",
        "colab_type": "text"
      },
      "cell_type": "markdown",
      "source": [
        "Let's explore the data:"
      ]
    },
    {
      "metadata": {
        "id": "t2Hzd1DQ4UXb",
        "colab_type": "code",
        "colab": {
          "base_uri": "https://localhost:8080/",
          "height": 34
        },
        "outputId": "7bd38ca2-8059-4c63-fa88-f2e30b37ff87"
      },
      "cell_type": "code",
      "source": [
        "train_images.shape\n"
      ],
      "execution_count": 5,
      "outputs": [
        {
          "output_type": "execute_result",
          "data": {
            "text/plain": [
              "(60000, 28, 28)"
            ]
          },
          "metadata": {
            "tags": []
          },
          "execution_count": 5
        }
      ]
    },
    {
      "metadata": {
        "id": "Yunioj8F4iMQ",
        "colab_type": "code",
        "colab": {
          "base_uri": "https://localhost:8080/",
          "height": 34
        },
        "outputId": "a01ed229-47f3-488e-ddf3-27d5958d3e5d"
      },
      "cell_type": "code",
      "source": [
        "len(train_labels)"
      ],
      "execution_count": 6,
      "outputs": [
        {
          "output_type": "execute_result",
          "data": {
            "text/plain": [
              "60000"
            ]
          },
          "metadata": {
            "tags": []
          },
          "execution_count": 6
        }
      ]
    },
    {
      "metadata": {
        "id": "Ilrk8Gmu4myg",
        "colab_type": "code",
        "colab": {
          "base_uri": "https://localhost:8080/",
          "height": 34
        },
        "outputId": "b4afa31e-d18a-49f1-858e-cdcbebf7eb3c"
      },
      "cell_type": "code",
      "source": [
        "train_labels"
      ],
      "execution_count": 7,
      "outputs": [
        {
          "output_type": "execute_result",
          "data": {
            "text/plain": [
              "array([5, 0, 4, ..., 5, 6, 8], dtype=uint8)"
            ]
          },
          "metadata": {
            "tags": []
          },
          "execution_count": 7
        }
      ]
    },
    {
      "metadata": {
        "id": "-tPaQ3wiXC52",
        "colab_type": "text"
      },
      "cell_type": "markdown",
      "source": [
        "We build the model with one hidden layer with 512 nodes.\n",
        "\n",
        "> Indented block\n",
        "\n"
      ]
    },
    {
      "metadata": {
        "id": "xPBprnY344lH",
        "colab_type": "code",
        "colab": {
          "base_uri": "https://localhost:8080/",
          "height": 34
        },
        "outputId": "eb3c4054-410c-4b5f-c077-8b338c595e8b"
      },
      "cell_type": "code",
      "source": [
        "test_images.shape"
      ],
      "execution_count": 8,
      "outputs": [
        {
          "output_type": "execute_result",
          "data": {
            "text/plain": [
              "(10000, 28, 28)"
            ]
          },
          "metadata": {
            "tags": []
          },
          "execution_count": 8
        }
      ]
    },
    {
      "metadata": {
        "id": "97vf6ZJY5Cjf",
        "colab_type": "code",
        "colab": {
          "base_uri": "https://localhost:8080/",
          "height": 34
        },
        "outputId": "3b4d8d5b-8e64-4dcb-b58b-8a7394bafefa"
      },
      "cell_type": "code",
      "source": [
        "len(test_labels)"
      ],
      "execution_count": 19,
      "outputs": [
        {
          "output_type": "execute_result",
          "data": {
            "text/plain": [
              "10000"
            ]
          },
          "metadata": {
            "tags": []
          },
          "execution_count": 19
        }
      ]
    },
    {
      "metadata": {
        "id": "sDyzAu7Z5Esi",
        "colab_type": "code",
        "colab": {
          "base_uri": "https://localhost:8080/",
          "height": 34
        },
        "outputId": "5515f77a-43d9-45f1-f2fa-f8c9d4241c68"
      },
      "cell_type": "code",
      "source": [
        "test_labels"
      ],
      "execution_count": 10,
      "outputs": [
        {
          "output_type": "execute_result",
          "data": {
            "text/plain": [
              "array([7, 2, 1, ..., 4, 5, 6], dtype=uint8)"
            ]
          },
          "metadata": {
            "tags": []
          },
          "execution_count": 10
        }
      ]
    },
    {
      "metadata": {
        "id": "ceb7v6vk5Qrz",
        "colab_type": "code",
        "colab": {
          "base_uri": "https://localhost:8080/",
          "height": 351
        },
        "outputId": "6f306f2a-e8fd-4f31-bfac-3c3f8b4e8675"
      },
      "cell_type": "code",
      "source": [
        "plt.figure()\n",
        "plt.imshow(train_images[20000])\n",
        "plt.colorbar()\n",
        "plt.grid(False)"
      ],
      "execution_count": 17,
      "outputs": [
        {
          "output_type": "display_data",
          "data": {
            "image/png": "[encoded data removed]",
            "text/plain": [
              "<matplotlib.figure.Figure at 0x7fe393b4d668>"
            ]
          },
          "metadata": {
            "tags": []
          }
        }
      ]
    },
    {
      "metadata": {
        "id": "jDEVeY8f8Pxx",
        "colab_type": "text"
      },
      "cell_type": "markdown",
      "source": [
        ""
      ]
    },
    {
      "metadata": {
        "id": "wZiHvWuH6Wyn",
        "colab_type": "text"
      },
      "cell_type": "markdown",
      "source": [
        "We want to pre-process the data to fall in the range of 0 - 1. We do that by dividing with the largest value (250)"
      ]
    },
    {
      "metadata": {
        "id": "vLjODdXS6RqC",
        "colab_type": "code",
        "colab": {}
      },
      "cell_type": "code",
      "source": [
        "train_images, test_images = train_images/255.0 , test_images/255.0"
      ],
      "execution_count": 0,
      "outputs": []
    },
    {
      "metadata": {
        "id": "PoBosRM87D7R",
        "colab_type": "text"
      },
      "cell_type": "markdown",
      "source": [
        "**Step 2: Build the model**\n",
        "We use a simple neural network with 1 hidden layer"
      ]
    },
    {
      "metadata": {
        "id": "ZI3-5KpFXDNR",
        "colab_type": "code",
        "colab": {}
      },
      "cell_type": "code",
      "source": [
        "model = tf.keras.models.Sequential([\n",
        "  tf.keras.layers.Flatten(), # input layer 28 x 28 = 784 nodes\n",
        "  tf.keras.layers.Dense(512, activation=tf.nn.relu), # hidden layer 512 nodes\n",
        "  tf.keras.layers.Dropout(0.2),\n",
        "  tf.keras.layers.Dense(10, activation=tf.nn.softmax) # Output layer 10 nodes\n",
        "])\n",
        "model.compile(optimizer='adam',\n",
        "              loss='sparse_categorical_crossentropy',\n",
        "              metrics=['accuracy'])"
      ],
      "execution_count": 0,
      "outputs": []
    },
    {
      "metadata": {
        "id": "6B5kyMHrYlSB",
        "colab_type": "text"
      },
      "cell_type": "markdown",
      "source": [
        "**Step 3: Train the model**\n",
        "Here we train for 5 epochs"
      ]
    },
    {
      "metadata": {
        "id": "Tzy9XC8qYlht",
        "colab_type": "code",
        "colab": {
          "base_uri": "https://localhost:8080/",
          "height": 136
        },
        "outputId": "65535b88-3f6e-44c2-9fa6-6cb399f206b5"
      },
      "cell_type": "code",
      "source": [
        "model.fit(train_images, train_labels, epochs=3)"
      ],
      "execution_count": 11,
      "outputs": [
        {
          "output_type": "stream",
          "text": [
            "Epoch 1/3\n",
            "1000/1000 [==============================] - 0s 314us/step - loss: 0.0836 - acc: 0.9890\n",
            "Epoch 2/3\n",
            "1000/1000 [==============================] - 0s 315us/step - loss: 0.0638 - acc: 0.9930\n",
            "Epoch 3/3\n",
            "1000/1000 [==============================] - 0s 317us/step - loss: 0.0458 - acc: 0.9970\n"
          ],
          "name": "stdout"
        },
        {
          "output_type": "execute_result",
          "data": {
            "text/plain": [
              "<tensorflow.python.keras.callbacks.History at 0x7f69b03df7f0>"
            ]
          },
          "metadata": {
            "tags": []
          },
          "execution_count": 11
        }
      ]
    },
    {
      "metadata": {
        "id": "LvOBT0G0Zb2P",
        "colab_type": "text"
      },
      "cell_type": "markdown",
      "source": [
        "**Step 4: Evaluate the model**\n",
        "we want to test if our model is making good predictions on data it never saw before, so we use the 10,000 images from the test set\n",
        "\n",
        "\n"
      ]
    },
    {
      "metadata": {
        "id": "DnbpxU4nZpaa",
        "colab_type": "code",
        "colab": {
          "base_uri": "https://localhost:8080/",
          "height": 51
        },
        "outputId": "0824f072-de70-4e96-ad90-da516a701fa0"
      },
      "cell_type": "code",
      "source": [
        "model.evaluate(test_images, test_labels)"
      ],
      "execution_count": 32,
      "outputs": [
        {
          "output_type": "stream",
          "text": [
            "10000/10000 [==============================] - 1s 79us/step\n"
          ],
          "name": "stdout"
        },
        {
          "output_type": "execute_result",
          "data": {
            "text/plain": [
              "[0.07484823845867068, 0.9769]"
            ]
          },
          "metadata": {
            "tags": []
          },
          "execution_count": 32
        }
      ]
    },
    {
      "metadata": {
        "id": "P3DNhfWe7pgW",
        "colab_type": "text"
      },
      "cell_type": "markdown",
      "source": [
        "**Step 5: Predict**\n",
        "Lets see how the model does in predicting digits from images. Let's choose the first image in the test set.\n",
        "First we will plot it to see what it looks like:"
      ]
    },
    {
      "metadata": {
        "id": "vr_MzbUK8AXo",
        "colab_type": "code",
        "colab": {
          "base_uri": "https://localhost:8080/",
          "height": 364
        },
        "outputId": "7612f6a4-4a28-44b2-f759-e293290754d6"
      },
      "cell_type": "code",
      "source": [
        "plt.imshow(test_images[2000])"
      ],
      "execution_count": 21,
      "outputs": [
        {
          "output_type": "execute_result",
          "data": {
            "text/plain": [
              "<matplotlib.image.AxesImage at 0x7fe393dc07f0>"
            ]
          },
          "metadata": {
            "tags": []
          },
          "execution_count": 21
        },
        {
          "output_type": "display_data",
          "data": {
            "image/png": "[encoded data removed]",
            "text/plain": [
              "<matplotlib.figure.Figure at 0x7fe3a207f2b0>"
            ]
          },
          "metadata": {
            "tags": []
          }
        }
      ]
    },
    {
      "metadata": {
        "id": "P953_7mT8Rai",
        "colab_type": "text"
      },
      "cell_type": "markdown",
      "source": [
        "Okay, that looks like a 7 to me, lets check the label"
      ]
    },
    {
      "metadata": {
        "id": "J5C0JSTC8WHm",
        "colab_type": "code",
        "colab": {
          "base_uri": "https://localhost:8080/",
          "height": 34
        },
        "outputId": "cce0d4af-ea0f-4ae3-8352-9252b2ed75ba"
      },
      "cell_type": "code",
      "source": [
        "test_labels[2000]"
      ],
      "execution_count": 22,
      "outputs": [
        {
          "output_type": "execute_result",
          "data": {
            "text/plain": [
              "6"
            ]
          },
          "metadata": {
            "tags": []
          },
          "execution_count": 22
        }
      ]
    },
    {
      "metadata": {
        "id": "im0RzKjj8aiQ",
        "colab_type": "text"
      },
      "cell_type": "markdown",
      "source": [
        "Now Let's see what the model reads it as"
      ]
    },
    {
      "metadata": {
        "id": "GxUJ0U_K8fys",
        "colab_type": "code",
        "colab": {}
      },
      "cell_type": "code",
      "source": [
        "predictions = model.predict(test_images)\n"
      ],
      "execution_count": 0,
      "outputs": []
    },
    {
      "metadata": {
        "id": "bWXsP3zt2ih0",
        "colab_type": "code",
        "colab": {
          "base_uri": "https://localhost:8080/",
          "height": 68
        },
        "outputId": "b009d064-be0a-4c80-ce01-c35b1c5bc3a4"
      },
      "cell_type": "code",
      "source": [
        "predictions[2000]"
      ],
      "execution_count": 24,
      "outputs": [
        {
          "output_type": "execute_result",
          "data": {
            "text/plain": [
              "array([5.1789990e-05, 5.6364411e-04, 7.8258161e-03, 6.3855265e-04,\n",
              "       7.6251733e-03, 2.3614343e-03, 9.7349000e-01, 4.0560899e-05,\n",
              "       5.9531289e-03, 1.4499660e-03], dtype=float32)"
            ]
          },
          "metadata": {
            "tags": []
          },
          "execution_count": 24
        }
      ]
    },
    {
      "metadata": {
        "id": "cgLCiyn72kFt",
        "colab_type": "code",
        "colab": {
          "base_uri": "https://localhost:8080/",
          "height": 34
        },
        "outputId": "c503d16c-6135-49fb-d6f8-b21908971634"
      },
      "cell_type": "code",
      "source": [
        "np.argmax(predictions[2000])"
      ],
      "execution_count": 25,
      "outputs": [
        {
          "output_type": "execute_result",
          "data": {
            "text/plain": [
              "6"
            ]
          },
          "metadata": {
            "tags": []
          },
          "execution_count": 25
        }
      ]
    },
    {
      "metadata": {
        "id": "1x8YKEg5-meB",
        "colab_type": "code",
        "colab": {}
      },
      "cell_type": "code",
      "source": [
        "import os\n",
        "\n",
        "checkpoint_path = \"training_1/cp.ckpt\"\n",
        "checkpoint_dir = os.path.dirname(checkpoint_path)\n",
        "\n",
        "# Create checkpoint callback\n",
        "cp_callback = tf.keras.callbacks.ModelCheckpoint(checkpoint_path, \n",
        "                                                 save_weights_only=True,\n",
        "                                                 verbose=1)\n",
        "\n",
        "\n",
        "model.fit(train_images, train_labels,  epochs = 3, \n",
        "          validation_data = (test_images,test_labels),\n",
        "          callbacks = [cp_callback])  # pass callback to training\n"
      ],
      "execution_count": 0,
      "outputs": []
    },
    {
      "metadata": {
        "id": "aPkngroNAN7N",
        "colab_type": "code",
        "colab": {}
      },
      "cell_type": "code",
      "source": [
        "!ls {checkpoint_dir}"
      ],
      "execution_count": 0,
      "outputs": []
    },
    {
      "metadata": {
        "id": "xSIv01KtFe_2",
        "colab_type": "code",
        "colab": {}
      },
      "cell_type": "code",
      "source": [
        "(train_images, train_labels), (test_images, test_labels) = tf.keras.datasets.mnist.load_data()\n",
        "\n",
        "train_labels = train_labels[:1000]\n",
        "test_labels = test_labels[:1000]\n",
        "\n",
        "train_images = train_images[:1000].reshape(-1, 28 * 28) / 255.0\n",
        "test_images = test_images[:1000].reshape(-1, 28 * 28) / 255.0"
      ],
      "execution_count": 0,
      "outputs": []
    },
    {
      "metadata": {
        "id": "XGTXIk_fAdJ6",
        "colab_type": "text"
      },
      "cell_type": "markdown",
      "source": [
        "Create new untrained model:"
      ]
    },
    {
      "metadata": {
        "id": "7l7S7zlL4Cku",
        "colab_type": "code",
        "colab": {}
      },
      "cell_type": "code",
      "source": [
        "model = tf.keras.models.Sequential([\n",
        "  tf.keras.layers.Dense(512, activation=tf.nn.relu, input_shape=(784,)), # hidden layer 512 nodes\n",
        "  tf.keras.layers.Dropout(0.2),\n",
        "  tf.keras.layers.Dense(10, activation=tf.nn.softmax) # Output layer 10 nodes\n",
        "])\n",
        "model.compile(optimizer='adam',\n",
        "              loss='sparse_categorical_crossentropy',\n",
        "              metrics=['accuracy'])"
      ],
      "execution_count": 0,
      "outputs": []
    },
    {
      "metadata": {
        "id": "So8K7LO1Abxw",
        "colab_type": "code",
        "colab": {
          "base_uri": "https://localhost:8080/",
          "height": 51
        },
        "outputId": "fc2e6c18-3040-4f48-8cd4-eaa1d8bc98e6"
      },
      "cell_type": "code",
      "source": [
        "model = tf.keras.models.Sequential([\n",
        "    tf.keras.layers.Dense(512, activation=tf.nn.relu, input_shape=(784,)),\n",
        "    tf.keras.layers.Dropout(0.2),\n",
        "    tf.keras.layers.Dense(10, activation=tf.nn.softmax)\n",
        "  ])\n",
        "  \n",
        "model.compile(optimizer=tf.keras.optimizers.Adam(), \n",
        "              loss=tf.keras.losses.sparse_categorical_crossentropy,\n",
        "              metrics=['accuracy'])\n",
        "  \n",
        "loss, acc = model.evaluate(test_images, test_labels)\n",
        "print(\"Untrained model, accuracy: {:5.2f}%\".format(100*acc))"
      ],
      "execution_count": 6,
      "outputs": [
        {
          "output_type": "stream",
          "text": [
            "1000/1000 [==============================] - 1s 500us/step\n",
            "Untrained model, accuracy:  8.30%\n"
          ],
          "name": "stdout"
        }
      ]
    },
    {
      "metadata": {
        "id": "SoL5E1pY4l1v",
        "colab_type": "code",
        "colab": {
          "base_uri": "https://localhost:8080/",
          "height": 34
        },
        "outputId": "567b11c8-8d8a-416b-e695-4ddc5a1d0421"
      },
      "cell_type": "code",
      "source": [
        "loss"
      ],
      "execution_count": 7,
      "outputs": [
        {
          "output_type": "execute_result",
          "data": {
            "text/plain": [
              "2.3970928211212157"
            ]
          },
          "metadata": {
            "tags": []
          },
          "execution_count": 7
        }
      ]
    },
    {
      "metadata": {
        "id": "PBxYhB8J4spc",
        "colab_type": "code",
        "colab": {
          "base_uri": "https://localhost:8080/",
          "height": 34
        },
        "outputId": "4221f782-2bb7-44fc-f630-800b7bd6e255"
      },
      "cell_type": "code",
      "source": [
        "acc"
      ],
      "execution_count": 8,
      "outputs": [
        {
          "output_type": "execute_result",
          "data": {
            "text/plain": [
              "0.083"
            ]
          },
          "metadata": {
            "tags": []
          },
          "execution_count": 8
        }
      ]
    },
    {
      "metadata": {
        "id": "FA2kUZExBvTC",
        "colab_type": "text"
      },
      "cell_type": "markdown",
      "source": [
        "accuracy is low, as expected.\n",
        "Let's load the weights:"
      ]
    },
    {
      "metadata": {
        "id": "SCkxGrLJByOq",
        "colab_type": "code",
        "colab": {}
      },
      "cell_type": "code",
      "source": [
        "model.load_weights(checkpoint_path)\n",
        "loss,acc = model.evaluate(test_images, test_labels)\n",
        "print(\"Restored model, accuracy: {:5.2f}%\".format(100*acc))"
      ],
      "execution_count": 0,
      "outputs": []
    },
    {
      "metadata": {
        "id": "zFUFwaxvCwVC",
        "colab_type": "text"
      },
      "cell_type": "markdown",
      "source": [
        "there are many options you can set with checkpoints, see TensorFlow tutorial for more info\n",
        "https://www.tensorflow.org/tutorials/keras/save_and_restore_models\n"
      ]
    },
    {
      "metadata": {
        "id": "7p0ltj4mCq3m",
        "colab_type": "text"
      },
      "cell_type": "markdown",
      "source": [
        "An alternative to checkpoints is to manually save the weights"
      ]
    },
    {
      "metadata": {
        "id": "Dtzw0y_-CpoN",
        "colab_type": "code",
        "colab": {}
      },
      "cell_type": "code",
      "source": [
        "# Save the weights\n",
        "model.save_weights('./checkpoints/my_checkpoint')"
      ],
      "execution_count": 0,
      "outputs": []
    },
    {
      "metadata": {
        "id": "TxyRHXQODJu_",
        "colab_type": "text"
      },
      "cell_type": "markdown",
      "source": [
        "**Save the entire model** "
      ]
    },
    {
      "metadata": {
        "id": "1XXSJAwWFFIk",
        "colab_type": "code",
        "colab": {
          "base_uri": "https://localhost:8080/",
          "height": 238
        },
        "outputId": "8f78e431-9d41-4636-d98f-b894aa865b53"
      },
      "cell_type": "code",
      "source": [
        "model.summary()"
      ],
      "execution_count": 12,
      "outputs": [
        {
          "output_type": "stream",
          "text": [
            "_________________________________________________________________\n",
            "Layer (type)                 Output Shape              Param #   \n",
            "=================================================================\n",
            "dense (Dense)                (None, 512)               401920    \n",
            "_________________________________________________________________\n",
            "dropout (Dropout)            (None, 512)               0         \n",
            "_________________________________________________________________\n",
            "dense_1 (Dense)              (None, 10)                5130      \n",
            "=================================================================\n",
            "Total params: 407,050\n",
            "Trainable params: 407,050\n",
            "Non-trainable params: 0\n",
            "_________________________________________________________________\n"
          ],
          "name": "stdout"
        }
      ]
    },
    {
      "metadata": {
        "id": "SMnMnhSXDU6j",
        "colab_type": "code",
        "colab": {}
      },
      "cell_type": "code",
      "source": [
        "# Save entire model to a HDF5 file\n",
        "model.save('my_model.h5')"
      ],
      "execution_count": 0,
      "outputs": []
    },
    {
      "metadata": {
        "id": "NUjzAqpCF8qz",
        "colab_type": "code",
        "colab": {}
      },
      "cell_type": "code",
      "source": [
        "# Recreate the exact same model, including weights and optimizer.\n",
        "new_model = tf.keras.models.load_model('my_model.h5')\n",
        "new_model.summary()\n"
      ],
      "execution_count": 0,
      "outputs": []
    },
    {
      "metadata": {
        "id": "nhDaBI5nGXSG",
        "colab_type": "code",
        "colab": {}
      },
      "cell_type": "code",
      "source": [
        "loss, acc = new_model.evaluate(test_images, test_labels)\n",
        "print(\"Restored model, accuracy: {:5.2f}%\".format(100*acc))"
      ],
      "execution_count": 0,
      "outputs": []
    },
    {
      "metadata": {
        "id": "6YWUhhCyG9Oe",
        "colab_type": "code",
        "colab": {}
      },
      "cell_type": "code",
      "source": [
        "!ls"
      ],
      "execution_count": 0,
      "outputs": []
    },
    {
      "metadata": {
        "id": "DjhSBkVqHAnR",
        "colab_type": "code",
        "colab": {}
      },
      "cell_type": "code",
      "source": [
        "from google.colab import files\n",
        "files.download('my_model.h5')"
      ],
      "execution_count": 0,
      "outputs": []
    }
  ]
}