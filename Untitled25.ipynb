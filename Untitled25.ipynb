{
  "nbformat": 4,
  "nbformat_minor": 0,
  "metadata": {
    "colab": {
      "name": "Untitled25.ipynb",
      "version": "0.3.2",
      "provenance": [],
      "include_colab_link": true
    },
    "kernelspec": {
      "name": "python3",
      "display_name": "Python 3"
    }
  },
  "cells": [
    {
      "cell_type": "markdown",
      "metadata": {
        "id": "view-in-github",
        "colab_type": "text"
      },
      "source": [
        "<a href=\"https://colab.research.google.com/github/NovaMaja/ML/blob/master/Untitled25.ipynb\" target=\"_parent\"><img src=\"https://colab.research.google.com/assets/colab-badge.svg\" alt=\"Open In Colab\"/></a>"
      ]
    },
    {
      "metadata": {
        "id": "_2ToK6s-ijbP",
        "colab_type": "code",
        "colab": {
          "base_uri": "https://localhost:8080/",
          "height": 104
        },
        "outputId": "c89f5530-85d6-4c4a-e386-f5224a178d98"
      },
      "cell_type": "code",
      "source": [
        "run = True\n",
        "while(run):\n",
        "  name = input('What is your name?')\n",
        "  if (name == 'exit'):\n",
        "    run = False\n",
        "  else:\n",
        "    print('hello '+name)"
      ],
      "execution_count": 4,
      "outputs": [
        {
          "output_type": "stream",
          "text": [
            "What is your name?maja\n",
            "hello maja\n",
            "What is your name?maher\n",
            "hello maher\n",
            "What is your name?exit\n"
          ],
          "name": "stdout"
        }
      ]
    }
  ]
}