{
  "nbformat": 4,
  "nbformat_minor": 0,
  "metadata": {
    "colab": {
      "name": "RL.ipynb",
      "version": "0.3.2",
      "provenance": [],
      "include_colab_link": true
    },
    "kernelspec": {
      "name": "python3",
      "display_name": "Python 3"
    }
  },
  "cells": [
    {
      "cell_type": "markdown",
      "metadata": {
        "id": "view-in-github",
        "colab_type": "text"
      },
      "source": [
        "<a href=\"https://colab.research.google.com/github/NovaMaja/ML/blob/master/RL.ipynb\" target=\"_parent\"><img src=\"https://colab.research.google.com/assets/colab-badge.svg\" alt=\"Open In Colab\"/></a>"
      ]
    },
    {
      "metadata": {
        "id": "u_ziGrD7QlMO",
        "colab_type": "code",
        "colab": {}
      },
      "cell_type": "code",
      "source": [
        "import numpy as np\n",
        "import pylab as plt\n",
        "\n",
        "# map cell to cell, add circular cell to goal point\n",
        "points_list = [(0,1), (1,5), (5,6), (5,4), (1,2), (2,3), (2,7), (6,7)]"
      ],
      "execution_count": 0,
      "outputs": []
    },
    {
      "metadata": {
        "id": "eqNFH4sWQsKq",
        "colab_type": "code",
        "outputId": "f2a3567c-d035-458d-d29f-4c939246b209",
        "colab": {
          "base_uri": "https://localhost:8080/",
          "height": 347
        }
      },
      "cell_type": "code",
      "source": [
        "goal = 7\n",
        "\n",
        "import networkx as nx\n",
        "G=nx.Graph()\n",
        "G.add_edges_from(points_list)\n",
        "pos = nx.spring_layout(G)\n",
        "nx.draw_networkx_nodes(G,pos)\n",
        "nx.draw_networkx_edges(G,pos)\n",
        "nx.draw_networkx_labels(G,pos)\n",
        "plt.show()"
      ],
      "execution_count": 0,
      "outputs": [
        {
          "output_type": "display_data",
          "data": {
            "image/png": "[encoded data removed]",
            "text/plain": [
              "<matplotlib.figure.Figure at 0x7f84dc8d1748>"
            ]
          },
          "metadata": {
            "tags": []
          }
        }
      ]
    },
    {
      "metadata": {
        "id": "yXSPe0CTRala",
        "colab_type": "code",
        "outputId": "c9400bd0-cdd1-4fa8-9b37-fac3f97c8370",
        "colab": {
          "base_uri": "https://localhost:8080/",
          "height": 151
        }
      },
      "cell_type": "code",
      "source": [
        "# how many points in graph? x points\n",
        "MATRIX_SIZE = 8\n",
        "\n",
        "# create matrix x*y\n",
        "R = np.matrix(np.ones(shape=(MATRIX_SIZE, MATRIX_SIZE)))\n",
        "R *= -1\n",
        "R"
      ],
      "execution_count": 0,
      "outputs": [
        {
          "output_type": "execute_result",
          "data": {
            "text/plain": [
              "matrix([[-1., -1., -1., -1., -1., -1., -1., -1.],\n",
              "        [-1., -1., -1., -1., -1., -1., -1., -1.],\n",
              "        [-1., -1., -1., -1., -1., -1., -1., -1.],\n",
              "        [-1., -1., -1., -1., -1., -1., -1., -1.],\n",
              "        [-1., -1., -1., -1., -1., -1., -1., -1.],\n",
              "        [-1., -1., -1., -1., -1., -1., -1., -1.],\n",
              "        [-1., -1., -1., -1., -1., -1., -1., -1.],\n",
              "        [-1., -1., -1., -1., -1., -1., -1., -1.]])"
            ]
          },
          "metadata": {
            "tags": []
          },
          "execution_count": 15
        }
      ]
    },
    {
      "metadata": {
        "id": "4d0LmPoUR7bC",
        "colab_type": "code",
        "outputId": "a501d77a-fa0d-443e-f2ee-8a42762e7808",
        "colab": {
          "base_uri": "https://localhost:8080/",
          "height": 286
        }
      },
      "cell_type": "code",
      "source": [
        "# assign zeros to paths and 100 to goal-reaching point\n",
        "for point in points_list:\n",
        "    print(point)\n",
        "    if point[1] == goal:\n",
        "        R[point] = 100\n",
        "    else:\n",
        "        R[point] = 0\n",
        "\n",
        "    if point[0] == goal:\n",
        "        R[point[::-1]] = 100\n",
        "    else:\n",
        "        # reverse of point\n",
        "        R[point[::-1]]= 0\n",
        "\n",
        "# add goal point round trip\n",
        "R[goal,goal]= 100\n",
        "\n",
        "R\n"
      ],
      "execution_count": 0,
      "outputs": [
        {
          "output_type": "stream",
          "text": [
            "(0, 1)\n",
            "(1, 5)\n",
            "(5, 6)\n",
            "(5, 4)\n",
            "(1, 2)\n",
            "(2, 3)\n",
            "(2, 7)\n",
            "(6, 7)\n"
          ],
          "name": "stdout"
        },
        {
          "output_type": "execute_result",
          "data": {
            "text/plain": [
              "matrix([[ -1.,   0.,  -1.,  -1.,  -1.,  -1.,  -1.,  -1.],\n",
              "        [  0.,  -1.,   0.,  -1.,  -1.,   0.,  -1.,  -1.],\n",
              "        [ -1.,   0.,  -1.,   0.,  -1.,  -1.,  -1., 100.],\n",
              "        [ -1.,  -1.,   0.,  -1.,  -1.,  -1.,  -1.,  -1.],\n",
              "        [ -1.,  -1.,  -1.,  -1.,  -1.,   0.,  -1.,  -1.],\n",
              "        [ -1.,   0.,  -1.,  -1.,   0.,  -1.,   0.,  -1.],\n",
              "        [ -1.,  -1.,  -1.,  -1.,  -1.,   0.,  -1., 100.],\n",
              "        [ -1.,  -1.,   0.,  -1.,  -1.,  -1.,   0., 100.]])"
            ]
          },
          "metadata": {
            "tags": []
          },
          "execution_count": 16
        }
      ]
    },
    {
      "metadata": {
        "id": "DNb9_UavS26E",
        "colab_type": "code",
        "outputId": "91fd258c-e978-4941-f444-ecd84e1864a6",
        "colab": {
          "base_uri": "https://localhost:8080/",
          "height": 34
        }
      },
      "cell_type": "code",
      "source": [
        "Q = np.matrix(np.zeros([MATRIX_SIZE,MATRIX_SIZE]))\n",
        "\n",
        "# learning parameter\n",
        "gamma = 0.8\n",
        "\n",
        "initial_state = 1\n",
        "\n",
        "def available_actions(state):\n",
        "    current_state_row = R[state,]\n",
        "    av_act = np.where(current_state_row >= 0)[1]\n",
        "    return av_act\n",
        "\n",
        "available_act = available_actions(initial_state) \n",
        "\n",
        "def sample_next_action(available_actions_range):\n",
        "    next_action = int(np.random.choice(available_act,1))\n",
        "    return next_action\n",
        "\n",
        "action = sample_next_action(available_act)\n",
        "\n",
        "def update(current_state, action, gamma):\n",
        "    \n",
        "  max_index = np.where(Q[action,] == np.max(Q[action,]))[1]\n",
        "  \n",
        "  if max_index.shape[0] > 1:\n",
        "      max_index = int(np.random.choice(max_index, size = 1))\n",
        "  else:\n",
        "      max_index = int(max_index)\n",
        "  max_value = Q[action, max_index]\n",
        "  \n",
        "  Q[current_state, action] = R[current_state, action] + gamma * max_value\n",
        " # print('max_value', R[current_state, action] + gamma * max_value)\n",
        "  if (np.max(Q) > 0):\n",
        "    return(np.sum(Q/np.max(Q)*100))\n",
        "  else:\n",
        "    return (0)\n",
        "    \n",
        "update(initial_state, action, gamma)"
      ],
      "execution_count": 0,
      "outputs": [
        {
          "output_type": "execute_result",
          "data": {
            "text/plain": [
              "0"
            ]
          },
          "metadata": {
            "tags": []
          },
          "execution_count": 17
        }
      ]
    },
    {
      "metadata": {
        "id": "sqGBkzp-TESL",
        "colab_type": "code",
        "colab": {}
      },
      "cell_type": "code",
      "source": [
        "# Training\n",
        "scores = []\n",
        "for i in range(700):\n",
        "    current_state = np.random.randint(0, int(Q.shape[0]))\n",
        "    available_act = available_actions(current_state)\n",
        "    action = sample_next_action(available_act)\n",
        "    score = update(current_state,action,gamma)\n",
        "    scores.append(score)\n",
        "    print ('Score:', str(score))\n",
        "    \n",
        "print(\"Trained Q matrix:\")\n",
        "print(Q/np.max(Q)*100)"
      ],
      "execution_count": 0,
      "outputs": []
    },
    {
      "metadata": {
        "id": "3vQ8h_m9TFCM",
        "colab_type": "code",
        "outputId": "00976d47-eb5d-4ede-c5d3-039122a07372",
        "colab": {
          "base_uri": "https://localhost:8080/",
          "height": 381
        }
      },
      "cell_type": "code",
      "source": [
        "# Testing\n",
        "current_state = 3\n",
        "steps = [current_state]\n",
        "\n",
        "while current_state != 7:\n",
        "\n",
        "    next_step_index = np.where(Q[current_state,] == np.max(Q[current_state,]))[1]\n",
        "    \n",
        "    if next_step_index.shape[0] > 1:\n",
        "        next_step_index = int(np.random.choice(next_step_index, size = 1))\n",
        "    else:\n",
        "        next_step_index = int(next_step_index)\n",
        "    \n",
        "    steps.append(next_step_index)\n",
        "    current_state = next_step_index\n",
        "\n",
        "print(\"Most efficient path:\")\n",
        "print(steps)\n",
        "\n",
        "plt.plot(scores)\n",
        "plt.show()"
      ],
      "execution_count": 0,
      "outputs": [
        {
          "output_type": "stream",
          "text": [
            "Most efficient path:\n",
            "[3, 2, 7]\n"
          ],
          "name": "stdout"
        },
        {
          "output_type": "display_data",
          "data": {
            "image/png": "[encoded data removed]",
            "text/plain": [
              "<matplotlib.figure.Figure at 0x7f84df2eb630>"
            ]
          },
          "metadata": {
            "tags": []
          }
        }
      ]
    }
  ]
}